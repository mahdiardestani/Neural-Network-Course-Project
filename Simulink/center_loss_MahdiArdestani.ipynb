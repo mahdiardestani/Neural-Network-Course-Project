{
  "nbformat": 4,
  "nbformat_minor": 0,
  "metadata": {
    "colab": {
      "name": "center_loss_MahdiArdestani.ipynb",
      "provenance": [],
      "collapsed_sections": []
    },
    "kernelspec": {
      "name": "python3",
      "display_name": "Python 3"
    },
    "language_info": {
      "name": "python"
    },
    "accelerator": "GPU"
  },
  "cells": [
    {
      "cell_type": "markdown",
      "metadata": {
        "id": "dIT-ToFeSC1t"
      },
      "source": [
        "##Import Modules"
      ]
    },
    {
      "cell_type": "code",
      "metadata": {
        "id": "MmYJl8qJJquj"
      },
      "source": [
        "import numpy as np\n",
        "import tensorflow as tf\n",
        "from tensorflow.keras.datasets import mnist\n",
        "from tensorflow.keras import layers\n",
        "from tensorflow.keras.models import Model\n",
        "from tensorflow.keras.utils import to_categorical     #One-Hot Encoding"
      ],
      "execution_count": 3,
      "outputs": []
    },
    {
      "cell_type": "markdown",
      "metadata": {
        "id": "zg9Kgn9rTxem"
      },
      "source": [
        "##Read Dataset and Normalization"
      ]
    },
    {
      "cell_type": "code",
      "metadata": {
        "id": "6lXpjtzTS-W8",
        "colab": {
          "base_uri": "https://localhost:8080/"
        },
        "outputId": "443c4fee-71e6-46d5-eb49-19e24b59ec24"
      },
      "source": [
        "#Read Dataset\n",
        "(X_train, y_train), (X_test, y_test) = mnist.load_data()\n",
        "\n",
        "#Normalization\n",
        "X_train = X_train.astype(\"float32\")/255.0        #shape = (60000, 28, 28)\n",
        "X_test = X_test.astype(\"float32\")/255.0          #shape = (10000, 28, 28)\n",
        "\n",
        "#Batch size\n",
        "X_train = np.expand_dims(X_train, axis = -1)    #shape = (60000, 28, 28, 1)\n",
        "X_test = np.expand_dims(X_test, axis = -1)      #shape = (10000, 28, 28, 1)\n",
        "\n",
        "\n",
        "#One-Hot Encoding\n",
        "\n",
        "# Befor t0_categorical: y_train equals to [5 0 4 ..... 5 6 8]\n",
        "#After to_categorical: y_train = [1 0 0 0 ... 0],.....\n",
        "\n",
        "#convert class vectors to binary class matrices\n",
        "y_train_one_hot = to_categorical(y_train)\n",
        "y_test_one_hot = to_categorical(y_test)\n"
      ],
      "execution_count": 4,
      "outputs": [
        {
          "output_type": "stream",
          "text": [
            "Downloading data from https://storage.googleapis.com/tensorflow/tf-keras-datasets/mnist.npz\n",
            "11493376/11490434 [==============================] - 0s 0us/step\n"
          ],
          "name": "stdout"
        }
      ]
    },
    {
      "cell_type": "markdown",
      "metadata": {
        "id": "6_QeFZbqW-Xw"
      },
      "source": [
        "##Main part of network - CNN"
      ]
    },
    {
      "cell_type": "code",
      "metadata": {
        "id": "hw6TDO7hVP59"
      },
      "source": [
        "#Start defining the input tensor\n",
        "#we define input_1 beacause keras ducument say:\"When using Conv2D as the first layer in a model, provide the keyword argument input_shape\". \n",
        "input_1 = layers.Input(shape=(28, 28, 1))\n",
        "\n",
        "#Define layers\n",
        "\n",
        "x = layers.Conv2D(32, (5, 5))(input_1)    #number of filter = 32 , dimension of filter = (5, 5)\n",
        "x = layers.BatchNormalization()(x)\n",
        "x = layers.PReLU()(x)\n",
        "\n",
        "x = layers.Conv2D(32, (5, 5))(x)          #number of filter = 32 , dimension of filter = (5, 5)         \n",
        "x = layers.BatchNormalization()(x)\n",
        "x = layers.PReLU()(x)\n",
        "\n",
        "x = layers.Conv2D(64, (5, 5))(x)          #number of filter = 64 , dimension of filter = (5, 5)\n",
        "x = layers.BatchNormalization()(x)\n",
        "x = layers.PReLU()(x)\n",
        "\n",
        "x = layers.Conv2D(64, (5, 5))(x)          #number of filter = 64 , dimension of filter = (5, 5)\n",
        "x = layers.BatchNormalization()(x)\n",
        "x = layers.PReLU()(x)\n",
        "\n",
        "x = layers.Conv2D(128, (5, 5))(x)         #number of filter = 128 , dimension of filter = (5, 5)\n",
        "x = layers.BatchNormalization()(x)\n",
        "x = layers.PReLU()(x)\n",
        "\n",
        "x = layers.Conv2D(128, (5, 5))(x)        #number of filter = 128 , dimension of filter = (5, 5)\n",
        "x = layers.BatchNormalization()(x)\n",
        "x = layers.PReLU()(x)\n",
        "\n",
        "#Make data to Flatten\n",
        "x = layers.Flatten()(x)\n",
        "\n",
        "#We choose 2 for visualizing in x-y (2D plane)\n",
        "x = layers.Dense(2)(x)\n",
        "\n",
        "out_1 = layers.PReLU(name= \"out_1\")(x)    #Output of 2 neurons we define \n",
        "\n",
        "out_2 = layers.Dense(10, activation= \"softmax\")(out_1)   #this is main output for mnist dataset and softmax"
      ],
      "execution_count": 5,
      "outputs": []
    },
    {
      "cell_type": "markdown",
      "metadata": {
        "id": "v5DIQRPwk0jN"
      },
      "source": [
        "##Center Loss network"
      ]
    },
    {
      "cell_type": "code",
      "metadata": {
        "id": "b6v-nTT5XTU6",
        "colab": {
          "base_uri": "https://localhost:8080/"
        },
        "outputId": "8b3e96d1-add0-4af1-8ef7-f62fea91a0cb"
      },
      "source": [
        "#Lambda_c is a constant for center loss function\n",
        "lambda_c = 1                               \n",
        "input_2 = layers.Input(shape=(1,))          # This is input number[0, 1, ....,9]                  \n",
        "\n",
        "#Turns positive integers (indexes) into dense vectors of fixed size with Embedding\n",
        "\n",
        "centers = layers.Embedding(10, 2)(input_2)    #Embeddding convert number to vector\n",
        "\n",
        "# 10 is type of input for this layer[0, 1, 2, ... ,9] : input_dim\n",
        "# 2 is the number of output for compare with 2 output in main network : output_dim\n",
        "\n",
        "#Define center-loss function\n",
        "def custom_layer(x):\n",
        "  out_1 = x[0]\n",
        "  centers = x[1]\n",
        "\n",
        "  return tf.sqrt(tf.reduce_sum(tf.square(out_1 - centers[:, 0]), axis = 1, keepdims = True))\n",
        "print(out_1.shape)\n",
        "print(centers.shape)\n",
        "print(centers[:,0])\n",
        "intra_loss = layers.Lambda(custom_layer)([out_1, centers])"
      ],
      "execution_count": 6,
      "outputs": [
        {
          "output_type": "stream",
          "text": [
            "(None, 2)\n",
            "(None, 1, 2)\n",
            "KerasTensor(type_spec=TensorSpec(shape=(None, 2), dtype=tf.float32, name=None), name='tf.__operators__.getitem/strided_slice:0', description=\"created by layer 'tf.__operators__.getitem'\")\n"
          ],
          "name": "stdout"
        }
      ]
    },
    {
      "cell_type": "markdown",
      "metadata": {
        "id": "rwueC3iisPpa"
      },
      "source": [
        "##Complete Model and Compile"
      ]
    },
    {
      "cell_type": "code",
      "metadata": {
        "colab": {
          "base_uri": "https://localhost:8080/"
        },
        "id": "L-3kh5sHlqFo",
        "outputId": "98e49db0-24f4-47b5-9393-afe10c7fad20"
      },
      "source": [
        "model_center_loss = Model([input_1, input_2], [out_2, intra_loss])\n",
        "\n",
        "#Compile Model\n",
        "\n",
        "#If the model has multiple outputs, you can use a different loss on each output by passing a dictionary or a list of losses.[custom_loss]\n",
        "def custom_loss(y_true, y_pred):\n",
        "  # y_pred equals to loss because we calculate loss in output of custom_layer\n",
        "  return y_pred\n",
        "\n",
        "\n",
        "model_center_loss.compile(optimizer= \"sgd\",\n",
        "                          loss = [\"categorical_crossentropy\", custom_loss],  #An objective function is any callable with the signature loss = fn(y_true,y_pred)\n",
        "                          loss_weights = [1, lambda_c/2],                    # scalar coefficients \n",
        "                          metrics=  [\"accuracy\"])\n",
        "\n",
        "\n",
        "dummy_matrix1 = np.zeros((X_train.shape[0], 1))     #X_train.shape[0] = 60000\n",
        "dummy_matrix2 = np.zeros((X_test.shape[0], 1))      #X_test.shape[0] = 10000\n",
        "\n",
        "model_center_loss.fit(x = [X_train, y_train], y = [y_train_one_hot, dummy_matrix1],\n",
        "                        batch_size = 32, epochs = 5, verbose = 1,\n",
        "                        validation_data=([X_test, y_test], [y_test_one_hot, dummy_matrix2]))\n",
        "\n",
        "#print(model_center_loss.summary())"
      ],
      "execution_count": 24,
      "outputs": [
        {
          "output_type": "stream",
          "text": [
            "Epoch 1/5\n",
            "1875/1875 [==============================] - 18s 9ms/step - loss: 2.2415 - dense_7_loss: 2.1737 - lambda_3_loss: 0.1357 - dense_7_accuracy: 0.1889 - lambda_3_accuracy: 0.9259 - val_loss: 2.1526 - val_dense_7_loss: 2.0688 - val_lambda_3_loss: 0.1676 - val_dense_7_accuracy: 0.2124 - val_lambda_3_accuracy: 0.8959\n",
            "Epoch 2/5\n",
            "1875/1875 [==============================] - 16s 9ms/step - loss: 2.0800 - dense_7_loss: 2.0063 - lambda_3_loss: 0.1473 - dense_7_accuracy: 0.2357 - lambda_3_accuracy: 0.9031 - val_loss: 1.9597 - val_dense_7_loss: 1.8040 - val_lambda_3_loss: 0.3115 - val_dense_7_accuracy: 0.3044 - val_lambda_3_accuracy: 0.8003\n",
            "Epoch 3/5\n",
            "1875/1875 [==============================] - 16s 9ms/step - loss: 1.7647 - dense_7_loss: 1.6191 - lambda_3_loss: 0.2912 - dense_7_accuracy: 0.4391 - lambda_3_accuracy: 0.8130 - val_loss: 1.5882 - val_dense_7_loss: 1.4552 - val_lambda_3_loss: 0.2661 - val_dense_7_accuracy: 0.4986 - val_lambda_3_accuracy: 0.7731\n",
            "Epoch 4/5\n",
            "1875/1875 [==============================] - 16s 9ms/step - loss: 1.4636 - dense_7_loss: 1.3419 - lambda_3_loss: 0.2434 - dense_7_accuracy: 0.5199 - lambda_3_accuracy: 0.8391 - val_loss: 1.3519 - val_dense_7_loss: 1.2477 - val_lambda_3_loss: 0.2083 - val_dense_7_accuracy: 0.5312 - val_lambda_3_accuracy: 0.8810\n",
            "Epoch 5/5\n",
            "1875/1875 [==============================] - 17s 9ms/step - loss: 1.2738 - dense_7_loss: 1.1735 - lambda_3_loss: 0.2006 - dense_7_accuracy: 0.6016 - lambda_3_accuracy: 0.9086 - val_loss: 1.1961 - val_dense_7_loss: 1.0983 - val_lambda_3_loss: 0.1956 - val_dense_7_accuracy: 0.6750 - val_lambda_3_accuracy: 0.9383\n"
          ],
          "name": "stdout"
        },
        {
          "output_type": "execute_result",
          "data": {
            "text/plain": [
              "<tensorflow.python.keras.callbacks.History at 0x7f31a817ced0>"
            ]
          },
          "metadata": {
            "tags": []
          },
          "execution_count": 24
        }
      ]
    },
    {
      "cell_type": "markdown",
      "metadata": {
        "id": "R7OIDmOM5HIA"
      },
      "source": [
        "##Plot Model"
      ]
    },
    {
      "cell_type": "code",
      "metadata": {
        "colab": {
          "base_uri": "https://localhost:8080/",
          "height": 301
        },
        "id": "HKbBuUty5KF_",
        "outputId": "027eb1a2-3a41-403a-ef67-994b144c8ead"
      },
      "source": [
        "from keras import backend as K\n",
        "model=Model(input_1,out_2)\n",
        "\n",
        "func = K.function([model.input],[model.get_layer('out_1').output])\n",
        "test_features= func([X_test])[0]\n",
        "print(test_features.shape)\n",
        "\n",
        "test_centers = np.dot(np.transpose(y_test_one_hot),test_features)\n",
        "test_centers_count = np.sum(np.transpose(y_test_one_hot),axis=1,keepdims=True)\n",
        "test_centers /= test_centers_count\n",
        "print(test_centers.shape)\n",
        "\n",
        "from matplotlib import pyplot as plt\n",
        "%matplotlib inline\n",
        "plt.scatter(test_features[:,0],test_features[:,1],c=y_test,edgecolor=\"none\",s=5)\n",
        "plt.scatter(test_centers[:,0],test_centers[:,1],c=\"black\",marker=\"*\",edgecolor=\"none\",s=50)\n",
        "plt.show()\n",
        "\n"
      ],
      "execution_count": 25,
      "outputs": [
        {
          "output_type": "stream",
          "text": [
            "(10000, 2)\n",
            "(10, 2)\n"
          ],
          "name": "stdout"
        },
        {
          "output_type": "display_data",
          "data": {
            "image/png": "[encoded data removed]",
            "text/plain": [
              "<Figure size 432x288 with 1 Axes>"
            ]
          },
          "metadata": {
            "tags": [],
            "needs_background": "light"
          }
        }
      ]
    },
    {
      "cell_type": "code",
      "metadata": {
        "id": "OmsywM5XoG67"
      },
      "source": [
        ""
      ],
      "execution_count": null,
      "outputs": []
    }
  ]
}